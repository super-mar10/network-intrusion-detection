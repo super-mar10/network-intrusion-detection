{
 "cells": [
  {
   "cell_type": "markdown",
   "metadata": {},
   "source": [
    "## Network Intrusion EDA"
   ]
  },
  {
   "cell_type": "code",
   "execution_count": null,
   "metadata": {},
   "outputs": [],
   "source": [
    "import pandas as pd\n",
    "import numpy as np\n",
    "import matplotlib.pyplot as plt\n",
    "import seaborn as sns\n",
    "\n",
    "%matplotlib inline"
   ]
  },
  {
   "cell_type": "markdown",
   "metadata": {},
   "source": [
    "## Attributes"
   ]
  },
  {
   "cell_type": "markdown",
   "metadata": {},
   "source": [
    "### Load the data"
   ]
  },
  {
   "cell_type": "code",
   "execution_count": null,
   "metadata": {},
   "outputs": [],
   "source": [
    "#Read files\n",
    "col_names = pd.read_csv('../../cyber-security-project/Field Names.csv', header=None)\n",
    "train_feature_df = pd.read_csv('../../cyber-security-project/KDDTrain+.csv', header=None)\n",
    "test_feature_df = pd.read_csv('../../cyber-security-project/KDDTest+.csv', header=None)"
   ]
  },
  {
   "cell_type": "code",
   "execution_count": null,
   "metadata": {},
   "outputs": [],
   "source": [
    "#Rename columns\n",
    "train_feature_df.rename(columns=col_names[0], inplace=True)\n",
    "test_feature_df.rename(columns=col_names[0], inplace=True)"
   ]
  },
  {
   "cell_type": "code",
   "execution_count": null,
   "metadata": {},
   "outputs": [],
   "source": [
    "#Rename column 41 and drop column 42\n",
    "train_feature_df.rename(columns={41:'attack_name'}, inplace=True)\n",
    "train_feature_df.drop(columns=[42], axis=1, inplace=True)\n",
    "test_feature_df.rename(columns={41:'attack_name'}, inplace=True)\n",
    "test_feature_df.drop(columns=[42], axis=1, inplace=True)"
   ]
  },
  {
   "cell_type": "markdown",
   "metadata": {},
   "source": [
    "This dataset contains 4 main categories of attacks: DOS, R2L, U2R, Probing"
   ]
  },
  {
   "cell_type": "code",
   "execution_count": null,
   "metadata": {},
   "outputs": [],
   "source": [
    "#Create new labels for data exploration\n",
    "attack_dict = {\n",
    "    'normal': 'normal',\n",
    "    #DOS\n",
    "    'back': 'DoS',\n",
    "    'land': 'DoS',\n",
    "    'neptune': 'DoS',\n",
    "    'pod': 'DoS',\n",
    "    'smurf': 'DoS',\n",
    "    'teardrop': 'DoS',\n",
    "    'mailbomb': 'DoS',\n",
    "    'apache2': 'DoS',\n",
    "    'processtable': 'DoS',\n",
    "    'udpstorm': 'DoS',\n",
    "    #Probing\n",
    "    'ipsweep': 'Probe',\n",
    "    'nmap': 'Probe',\n",
    "    'portsweep': 'Probe',\n",
    "    'satan': 'Probe',\n",
    "    'mscan': 'Probe',\n",
    "    'saint': 'Probe',\n",
    "    #R2L\n",
    "    'ftp_write': 'R2L',\n",
    "    'guess_passwd': 'R2L',\n",
    "    'imap': 'R2L',\n",
    "    'multihop': 'R2L',\n",
    "    'phf': 'R2L',\n",
    "    'spy': 'R2L',\n",
    "    'warezclient': 'R2L',\n",
    "    'warezmaster': 'R2L',\n",
    "    'sendmail': 'R2L',\n",
    "    'named': 'R2L',\n",
    "    'snmpgetattack': 'R2L',\n",
    "    'snmpguess': 'R2L',\n",
    "    'xlock': 'R2L',\n",
    "    'xsnoop': 'R2L',\n",
    "    'worm': 'R2L',\n",
    "    #U2R\n",
    "    'buffer_overflow': 'U2R',\n",
    "    'loadmodule': 'U2R',\n",
    "    'perl': 'U2R',\n",
    "    'rootkit': 'U2R',\n",
    "    'httptunnel': 'U2R',\n",
    "    'ps': 'U2R',    \n",
    "    'sqlattack': 'U2R',\n",
    "    'xterm': 'U2R'\n",
    "}\n",
    "\n",
    "def mal_identifier(labels):\n",
    "    if labels == 'normal':\n",
    "        return 'normal'\n",
    "    else:\n",
    "        return 'malicious'\n",
    "    \n",
    "#def mal_identifier(labels):    \n",
    "#    mal = ['DoS', 'Probe', 'R2L', 'U2R']\n",
    "#    if labels in mal:\n",
    "#        return 'malicious'\n",
    "#    else:\n",
    "#        return 'normal'"
   ]
  },
  {
   "cell_type": "code",
   "execution_count": null,
   "metadata": {},
   "outputs": [],
   "source": [
    "#Write dictionary as \n",
    "import json\n",
    "\n",
    "with open('./data/attack_dictionary.json', 'w') as file:\n",
    "    json.dump(attack_dict, file)"
   ]
  },
  {
   "cell_type": "code",
   "execution_count": null,
   "metadata": {},
   "outputs": [],
   "source": [
    "train_feature_df['labels_5cat'] = train_feature_df['attack_name'].map(attack_dict)\n",
    "test_feature_df['labels_5cat'] = test_feature_df['attack_name'].map(attack_dict)"
   ]
  },
  {
   "cell_type": "code",
   "execution_count": null,
   "metadata": {},
   "outputs": [],
   "source": [
    "train_feature_df['labels_2cat'] = train_feature_df.labels_5cat.apply(mal_identifier)\n",
    "test_feature_df['labels_2cat'] = test_feature_df.labels_5cat.apply(mal_identifier)"
   ]
  },
  {
   "cell_type": "markdown",
   "metadata": {},
   "source": [
    "## Examine the data"
   ]
  },
  {
   "cell_type": "code",
   "execution_count": null,
   "metadata": {},
   "outputs": [],
   "source": [
    "train_feature_df.head(5)"
   ]
  },
  {
   "cell_type": "markdown",
   "metadata": {},
   "source": [
    "### Use .info() to see length and dtypes\n"
   ]
  },
  {
   "cell_type": "code",
   "execution_count": null,
   "metadata": {},
   "outputs": [],
   "source": [
    "train_feature_df.info()"
   ]
  },
  {
   "cell_type": "code",
   "execution_count": null,
   "metadata": {},
   "outputs": [],
   "source": [
    "test_feature_df.info()"
   ]
  },
  {
   "cell_type": "markdown",
   "metadata": {},
   "source": [
    "### Check for duplicates"
   ]
  },
  {
   "cell_type": "code",
   "execution_count": null,
   "metadata": {},
   "outputs": [],
   "source": [
    "train_feature_df.duplicated().sum()"
   ]
  },
  {
   "cell_type": "code",
   "execution_count": null,
   "metadata": {},
   "outputs": [],
   "source": [
    "test_feature_df.duplicated().sum()"
   ]
  },
  {
   "cell_type": "markdown",
   "metadata": {},
   "source": [
    "### Identify numerical and categorical variables"
   ]
  },
  {
   "cell_type": "code",
   "execution_count": null,
   "metadata": {},
   "outputs": [],
   "source": [
    "train_feature_df.columns"
   ]
  },
  {
   "cell_type": "code",
   "execution_count": null,
   "metadata": {},
   "outputs": [],
   "source": [
    "categorical_cols = ['protocol_type', 'service', 'flag']\n",
    "binary_cols = ['land', 'logged_in', 'root_shell', 'su_attempted', 'is_host_login', 'is_guest_login']\n",
    "numeric_cols = ['duration', 'src_bytes','dst_bytes', 'wrong_fragment', 'urgent', \n",
    "                'hot', 'num_failed_logins', 'num_compromised',\n",
    "                'num_root', 'num_file_creations', 'num_shells',\n",
    "                'num_access_files', 'num_outbound_cmds','count', 'srv_count', 'serror_rate',\n",
    "                'srv_serror_rate', 'rerror_rate', 'srv_rerror_rate', 'same_srv_rate',\n",
    "                'diff_srv_rate', 'srv_diff_host_rate', 'dst_host_count',\n",
    "                'dst_host_srv_count', 'dst_host_same_srv_rate',\n",
    "                'dst_host_diff_srv_rate', 'dst_host_same_src_port_rate',\n",
    "                'dst_host_srv_diff_host_rate', 'dst_host_serror_rate',\n",
    "                'dst_host_srv_serror_rate', 'dst_host_rerror_rate',\n",
    "                'dst_host_srv_rerror_rate']"
   ]
  },
  {
   "cell_type": "markdown",
   "metadata": {},
   "source": [
    "### Summarize categorical, numerical, and binary variables"
   ]
  },
  {
   "cell_type": "code",
   "execution_count": null,
   "metadata": {},
   "outputs": [],
   "source": [
    "train_feature_df[categorical_cols].describe()"
   ]
  },
  {
   "cell_type": "code",
   "execution_count": null,
   "metadata": {},
   "outputs": [],
   "source": [
    "train_feature_df[numeric_cols].describe().round(2).transpose()"
   ]
  },
  {
   "cell_type": "markdown",
   "metadata": {},
   "source": [
    "``num_failed_logins`` has all 0 values, it will dropped due to redundancy "
   ]
  },
  {
   "cell_type": "code",
   "execution_count": null,
   "metadata": {},
   "outputs": [],
   "source": [
    "pd.crosstab(train_feature_df.num_outbound_cmds, train_feature_df.labels_2cat)"
   ]
  },
  {
   "cell_type": "code",
   "execution_count": null,
   "metadata": {},
   "outputs": [],
   "source": [
    "#Drop num_outbound_cmds from train and test\n",
    "train_feature_df.drop('num_outbound_cmds', axis=1, inplace=True)\n",
    "test_feature_df.drop('num_outbound_cmds', axis=1, inplace=True)\n",
    "numeric_cols.remove('num_outbound_cmds')"
   ]
  },
  {
   "cell_type": "code",
   "execution_count": null,
   "metadata": {},
   "outputs": [],
   "source": [
    "train_feature_df[binary_cols].describe().round(2)"
   ]
  },
  {
   "cell_type": "markdown",
   "metadata": {},
   "source": [
    "su_attempted shows **3** variables [0,1,2] but it should be a binary feature [0,1]\n",
    "\n",
    "**note for su_attemped**: ``1 if su root command attempted or used; 0 otherwise``\n"
   ]
  },
  {
   "cell_type": "code",
   "execution_count": null,
   "metadata": {},
   "outputs": [],
   "source": [
    "pd.crosstab(train_feature_df.su_attempted, train_feature_df.labels_2cat)"
   ]
  },
  {
   "cell_type": "code",
   "execution_count": null,
   "metadata": {},
   "outputs": [],
   "source": [
    "pd.crosstab(test_feature_df.su_attempted, test_feature_df.labels_2cat)"
   ]
  },
  {
   "cell_type": "code",
   "execution_count": null,
   "metadata": {},
   "outputs": [],
   "source": [
    "# 2 value is replaced to 0 for both train and test datasets\n",
    "train_feature_df.su_attempted.replace(2, 0, inplace=True)\n",
    "test_feature_df.su_attempted.replace(2, 0, inplace=True)"
   ]
  },
  {
   "cell_type": "markdown",
   "metadata": {},
   "source": [
    "#### Count connection types( normal, malicious) and attack categories"
   ]
  },
  {
   "cell_type": "code",
   "execution_count": null,
   "metadata": {},
   "outputs": [],
   "source": [
    "from __future__ import division\n",
    "from collections import Counter\n",
    "\n",
    "def class_info(classes):\n",
    "    counts = Counter(classes)\n",
    "    total = sum(counts.values())\n",
    "    for cls in counts.keys():\n",
    "        print('{:10}: {:7} = {:5.2f}%'.format(cls, counts[cls], counts[cls]/total*100))"
   ]
  },
  {
   "cell_type": "code",
   "execution_count": null,
   "metadata": {},
   "outputs": [],
   "source": [
    "class_info(train_feature_df.labels_2cat)"
   ]
  },
  {
   "cell_type": "code",
   "execution_count": null,
   "metadata": {},
   "outputs": [],
   "source": [
    "class_info(train_feature_df.labels_5cat)"
   ]
  },
  {
   "cell_type": "markdown",
   "metadata": {},
   "source": [
    "## Visualizing Normal and Malicious connections"
   ]
  },
  {
   "cell_type": "markdown",
   "metadata": {},
   "source": [
    "### By connection protocols"
   ]
  },
  {
   "cell_type": "markdown",
   "metadata": {},
   "source": [
    "Most connections fall on ```TCP``` and contain most of the normal and malicious connections \n",
    "\n",
    "```UDP``` connections are predominantly normal \n",
    "\n",
    "```ICMP``` connections are predominantly malicious and are commonly used for probing and DOS attakcs"
   ]
  },
  {
   "cell_type": "code",
   "execution_count": null,
   "metadata": {},
   "outputs": [],
   "source": [
    "def c_graph(x, y, title, **kwargs):\n",
    "    ctab = pd.crosstab(x, y)\n",
    "    ctab_sorted = ctab.sort_values('normal', ascending=False)\n",
    "    return ctab_sorted.plot(kind='bar', colormap='Set1', title=title, **kwargs)"
   ]
  },
  {
   "cell_type": "code",
   "execution_count": null,
   "metadata": {},
   "outputs": [],
   "source": [
    "fig, ax_array = plt.subplots(2, 2, figsize=(16,14), sharey=True)\n",
    "(ax1, ax2), (ax3, ax4) = ax_array\n",
    "c_graph(train_feature_df.protocol_type, train_feature_df.labels_2cat, 'Normal vs Malicious by Protocol Type (train)', ax=ax1)\n",
    "c_graph(test_feature_df.protocol_type, test_feature_df.labels_2cat, 'Normal vs Malicious by Protocol Type (test)', ax=ax2)\n",
    "c_graph(train_feature_df.protocol_type, train_feature_df.labels_5cat, 'Attack Categories by Protocol Type (train)', ax=ax3)\n",
    "c_graph(test_feature_df.protocol_type, test_feature_df.labels_5cat, 'Attack Categories by Protocol Type (test)', ax=ax4);"
   ]
  },
  {
   "cell_type": "markdown",
   "metadata": {},
   "source": [
    "### By Connection Flags (status)\n",
    "\n",
    "The plot below shows the connection type(normal or malicious) by status of the connection.\n",
    "\n",
    "```SF``` - Most connections show a normal establishment and termination. Most are normal. (SYN/FIN)\n",
    "\n",
    "```S0``` - This flag shows a connection attempt but no reply. Most are malicious\n",
    "\n",
    "There are predominant malicious connections on the following flag states:\n",
    "\n",
    "```REJ``` - Connection attempt rejected.\n",
    "\n",
    "```RSTO``` - Connection established, originator aborted (sent a RST).\n",
    "\n",
    "```RSTOS0``` - Originator sent a SYN followed by a RST, we never saw a SYN-ACK from the responder.\n",
    "\n",
    "```RSTR``` - Responder sent a RST\n",
    "\n",
    "```SH``` - Originator sent a SYN followed by a FIN, but never saw a SYN ACK from the responder (hence the connection was “half” open)\n",
    "\n",
    "reference conn_state (flags): https://www.bro.org/sphinx/scripts/base/protocols/conn/main.bro.html?highlight=connection%20attempt%20rejected"
   ]
  },
  {
   "cell_type": "code",
   "execution_count": null,
   "metadata": {},
   "outputs": [],
   "source": [
    "c = pd.crosstab(train_feature_df.flag, train_feature_df.labels_2cat).sort_values('malicious')\n",
    "c.plot(kind='barh', colormap='Set1', figsize=(16,14), stacked=True)\n",
    "print(pd.crosstab(train_feature_df.flag, train_feature_df.labels_2cat).sort_values('malicious', ascending=False))"
   ]
  },
  {
   "cell_type": "markdown",
   "metadata": {},
   "source": [
    "#### Further analysis on flags by attack category\n",
    "\n",
    "**DOS attacks** are dominant on ```REJ, RSTO, S0``` flags\n",
    "\n",
    "**Probing** is dominant on ```OTH, RSTO0, RSTR, SH``` flags"
   ]
  },
  {
   "cell_type": "code",
   "execution_count": null,
   "metadata": {},
   "outputs": [],
   "source": [
    "flags_df = pd.crosstab(train_feature_df.flag, train_feature_df.labels_5cat)\n",
    "flags_df.style.bar(subset=['DoS','Probe','R2L','U2R', 'normal'], color=['#5fba7d'], axis=1)"
   ]
  },
  {
   "cell_type": "markdown",
   "metadata": {},
   "source": [
    "### By network service"
   ]
  },
  {
   "cell_type": "markdown",
   "metadata": {},
   "source": [
    "```private, eco_i, ecr_i``` - malicious attacks are dominant on these services\n",
    "\n",
    "```http``` - most of the connections are normal but malicious activity exist\n",
    "\n",
    "```smtp, domain_u, urp_i``` - are primarly normal with very few malicious activity\n",
    "\n",
    "There's a long tail of network services that are used for malicious activities \n"
   ]
  },
  {
   "cell_type": "code",
   "execution_count": null,
   "metadata": {},
   "outputs": [],
   "source": [
    "ns = pd.crosstab(train_feature_df.service, train_feature_df.labels_2cat).sort_values('malicious')\n",
    "ns.plot(kind='barh', colormap='Set1', figsize=(16,14), stacked=True);\n",
    "#print(pd.crosstab(train_feature_df.service, train_feature_df.labels_2cat).sort_values('malicious', ascending=False))"
   ]
  },
  {
   "cell_type": "code",
   "execution_count": null,
   "metadata": {
    "scrolled": true
   },
   "outputs": [],
   "source": [
    "service_df = pd.crosstab(train_feature_df.service, train_feature_df.labels_5cat)\n",
    "service_df.style.bar( color=['#5fba7d'], axis=1)"
   ]
  },
  {
   "cell_type": "markdown",
   "metadata": {},
   "source": [
    "-------------------"
   ]
  },
  {
   "cell_type": "markdown",
   "metadata": {},
   "source": [
    "## Visualizing Numeric Values"
   ]
  },
  {
   "cell_type": "code",
   "execution_count": null,
   "metadata": {},
   "outputs": [],
   "source": [
    "fig = plt.figure(figsize=(30, 25))\n",
    "numeric_col_corr = train_feature_df.loc[:, train_feature_df.columns.isin(numeric_cols)].corr().abs()\n",
    "sns.heatmap(numeric_col_corr, cmap='Blues', annot=True)\n",
    "#plt.xticks(rotation=45)\n",
    "plt.show()"
   ]
  },
  {
   "cell_type": "markdown",
   "metadata": {},
   "source": [
    "#### Examining the top correlated values\n"
   ]
  },
  {
   "cell_type": "code",
   "execution_count": null,
   "metadata": {},
   "outputs": [],
   "source": [
    "d = train_feature_df[numeric_cols].corr().values\n",
    "for i in range(len(numeric_cols)):\n",
    "    for j in range(i+1, len(numeric_cols)):\n",
    "        if d[i,j] > .7:\n",
    "            print('{:20} {:30} {:}'.format(numeric_cols[i], numeric_cols[j], d[i,j]))"
   ]
  },
  {
   "cell_type": "markdown",
   "metadata": {},
   "source": [
    "#### Related to established connections and connection attempts without reply\n",
    "serror_rate\n",
    "- the percentage of connections that have activated FLAG s0,s1,s2,s3, among the connections that have the same destination host IP in the past two seconds\n",
    "\n",
    "dst_host_serror_rate\n",
    "- the percentage of connections that have activated FLAG s0,s1,s2,s3, among the connections that have the same destination host IP\n",
    "\n",
    "srv_serror_rate\n",
    "- the percentage of connections that have activated FLAG s0,s1,s2,s3, among the connections that have the same Port number as the current connection in the past two seconds\n",
    "\n",
    "dst_host_srv_serror_rate\n",
    "- the percentage of connections that have activated FLAG s0,s1,s2,s3, among the connections that have the same Port number\n",
    "\n",
    "\n",
    "#### Related to connection attempts but rejected\n",
    "rerror_rate\n",
    "- the percentage of connections that have activated FLAG REJ among the connections tha have the same destination host IP in the past two seconds\n",
    "\n",
    "dst_host_rerror_rate\n",
    "- the percentage of connections that have activated FLAG REJ among the connections tha have the same destination host IP\n",
    "\n",
    "srv_rerror_rate\n",
    "- the percentage of connections that have activated FLAG REJ among the connections tha have the same Port number as the current connnection in the past two seconds\n",
    "\n",
    "dst_host_srv_rerror_rate\n",
    "- the percentage of connections that have activated FLAG REJ among the connections tha have the same Port number\n",
    "\n",
    "#### Related to connections with the same destination host IP and same port number (service name)\n",
    "dst_host_same_srv_rate\n",
    "- the percentange of connections that were to the same service among the number of connections having the same destination host ip address\n",
    "\n",
    "dst_host_srv_count\n",
    "- number of connections having the same port number (service name)\n",
    "\n",
    "same_srv_rate\n",
    "- percentage of connections that were to the same service, among the number of connections to the same destination host IP in the past two seconds\n",
    "\n",
    "#### relation between compromised connections and number of root operations in the connections\n",
    "num_compromised\n",
    "- number of compromised conditions\n",
    "\n",
    "num_root\n",
    "- number of root acceses or number of operations performed as root in the connections\n"
   ]
  },
  {
   "cell_type": "code",
   "execution_count": null,
   "metadata": {},
   "outputs": [],
   "source": [
    "# Plot a variable factor map (PCA)"
   ]
  },
  {
   "cell_type": "code",
   "execution_count": null,
   "metadata": {},
   "outputs": [],
   "source": []
  }
 ],
 "metadata": {
  "kernelspec": {
   "display_name": "Python 3",
   "language": "python",
   "name": "python3"
  },
  "language_info": {
   "codemirror_mode": {
    "name": "ipython",
    "version": 3
   },
   "file_extension": ".py",
   "mimetype": "text/x-python",
   "name": "python",
   "nbconvert_exporter": "python",
   "pygments_lexer": "ipython3",
   "version": "3.6.5"
  }
 },
 "nbformat": 4,
 "nbformat_minor": 2
}
